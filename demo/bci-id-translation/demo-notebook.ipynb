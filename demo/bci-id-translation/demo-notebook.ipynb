{
 "cells": [
  {
   "cell_type": "markdown",
   "id": "4694cbf1-ecc7-4695-ab3b-e49eea966b9b",
   "metadata": {
    "execution": {
     "iopub.execute_input": "2023-11-06T17:10:14.946117Z",
     "iopub.status.busy": "2023-11-06T17:10:14.945929Z",
     "iopub.status.idle": "2023-11-06T17:10:15.359057Z",
     "shell.execute_reply": "2023-11-06T17:10:15.358455Z",
     "shell.execute_reply.started": "2023-11-06T17:10:14.946098Z"
    }
   },
   "source": [
    "# Cookiecutter ID translation demo"
   ]
  },
  {
   "cell_type": "markdown",
   "id": "f2f0a2a3-76e4-41c1-b51a-ab9a4ad15ba0",
   "metadata": {},
   "source": [
    "The main entry point is the `id_translation.translate()`-method, which should be enough for mose use cases. When working manually, the `id_translation.map()` and `id_translation.map_scores()` may be of interest as well."
   ]
  },
  {
   "cell_type": "code",
   "execution_count": 1,
   "id": "2f2e10c2-9bb2-4bb4-9e3d-aa8d36c32300",
   "metadata": {
    "execution": {
     "iopub.execute_input": "2023-11-06T18:14:02.668389Z",
     "iopub.status.busy": "2023-11-06T18:14:02.668262Z",
     "iopub.status.idle": "2023-11-06T18:14:03.009838Z",
     "shell.execute_reply": "2023-11-06T18:14:03.009214Z",
     "shell.execute_reply.started": "2023-11-06T18:14:02.668378Z"
    }
   },
   "outputs": [],
   "source": [
    "from big_corporation_inc import id_translation"
   ]
  },
  {
   "cell_type": "markdown",
   "id": "9773617b-99ba-416f-88a2-cade85590b8b",
   "metadata": {},
   "source": [
    "# Available sources\n",
    "And their ID columns. Only ID columns may be translated."
   ]
  },
  {
   "cell_type": "code",
   "execution_count": 2,
   "id": "6f9280e1-84fc-4153-ad1b-3a36400663ac",
   "metadata": {
    "execution": {
     "iopub.execute_input": "2023-11-06T18:14:03.011251Z",
     "iopub.status.busy": "2023-11-06T18:14:03.011042Z",
     "iopub.status.idle": "2023-11-06T18:14:03.228937Z",
     "shell.execute_reply": "2023-11-06T18:14:03.228240Z",
     "shell.execute_reply.started": "2023-11-06T18:14:03.011238Z"
    }
   },
   "outputs": [
    {
     "name": "stdout",
     "output_type": "stream",
     "text": [
      "['actor', 'address', 'category', 'city', 'country', 'customer', 'film', 'inventory', 'language', 'payment', 'rental', 'staff', 'store']\n"
     ]
    }
   ],
   "source": [
    "available_sources = sorted(id_translation.get_sources_and_placeholders().keys())\n",
    "print(available_sources)"
   ]
  },
  {
   "cell_type": "markdown",
   "id": "c067a949-505e-4d10-972f-e31906e69d47",
   "metadata": {},
   "source": [
    "## Integrations\n",
    "Most built-in collections will work as-is. Furthermore, The `Translator` knows about types such as the `pandas.DataFrame`."
   ]
  },
  {
   "cell_type": "code",
   "execution_count": 3,
   "id": "15e860e3-d450-4665-844b-3d329fc9a1b7",
   "metadata": {
    "execution": {
     "iopub.execute_input": "2023-11-06T18:14:03.229744Z",
     "iopub.status.busy": "2023-11-06T18:14:03.229563Z",
     "iopub.status.idle": "2023-11-06T18:14:03.240095Z",
     "shell.execute_reply": "2023-11-06T18:14:03.239345Z",
     "shell.execute_reply.started": "2023-11-06T18:14:03.229731Z"
    }
   },
   "outputs": [
    {
     "data": {
      "text/html": [
       "<div>\n",
       "<style scoped>\n",
       "    .dataframe tbody tr th:only-of-type {\n",
       "        vertical-align: middle;\n",
       "    }\n",
       "\n",
       "    .dataframe tbody tr th {\n",
       "        vertical-align: top;\n",
       "    }\n",
       "\n",
       "    .dataframe thead th {\n",
       "        text-align: right;\n",
       "    }\n",
       "</style>\n",
       "<table border=\"1\" class=\"dataframe\">\n",
       "  <thead>\n",
       "    <tr style=\"text-align: right;\">\n",
       "      <th></th>\n",
       "      <th>actor_id</th>\n",
       "      <th>address_id</th>\n",
       "      <th>category_id</th>\n",
       "      <th>city_id</th>\n",
       "      <th>country_id</th>\n",
       "      <th>customer_id</th>\n",
       "      <th>film_id</th>\n",
       "      <th>inventory_id</th>\n",
       "      <th>language_id</th>\n",
       "      <th>payment_id</th>\n",
       "      <th>rental_id</th>\n",
       "      <th>staff_id</th>\n",
       "      <th>store_id</th>\n",
       "    </tr>\n",
       "  </thead>\n",
       "  <tbody>\n",
       "    <tr>\n",
       "      <th>0</th>\n",
       "      <td>1</td>\n",
       "      <td>1</td>\n",
       "      <td>1</td>\n",
       "      <td>1</td>\n",
       "      <td>1</td>\n",
       "      <td>1</td>\n",
       "      <td>1</td>\n",
       "      <td>1</td>\n",
       "      <td>1</td>\n",
       "      <td>1</td>\n",
       "      <td>1</td>\n",
       "      <td>1</td>\n",
       "      <td>1</td>\n",
       "    </tr>\n",
       "  </tbody>\n",
       "</table>\n",
       "</div>"
      ],
      "text/plain": [
       "   actor_id  address_id  category_id  city_id  country_id  customer_id  \\\n",
       "0         1           1            1        1           1            1   \n",
       "\n",
       "   film_id  inventory_id  language_id  payment_id  rental_id  staff_id  \\\n",
       "0        1             1            1           1          1         1   \n",
       "\n",
       "   store_id  \n",
       "0         1  "
      ]
     },
     "execution_count": 3,
     "metadata": {},
     "output_type": "execute_result"
    }
   ],
   "source": [
    "import pandas as pd\n",
    "\n",
    "one = [[1] * len(available_sources)]\n",
    "first = pd.DataFrame(one, columns=map(\"{}_id\".format, available_sources))\n",
    "first"
   ]
  },
  {
   "cell_type": "markdown",
   "id": "027a0e4d-e62d-4f08-bd42-160c8c1e06a7",
   "metadata": {},
   "source": [
    "The included config doesn't add `name`-column mappings for all tables. To avoid a crash, let's use a temporary format in which the name is optional."
   ]
  },
  {
   "cell_type": "code",
   "execution_count": 4,
   "id": "93ba3852-377e-48f3-b893-1940271d2506",
   "metadata": {
    "execution": {
     "iopub.execute_input": "2023-11-06T18:14:03.240812Z",
     "iopub.status.busy": "2023-11-06T18:14:03.240652Z",
     "iopub.status.idle": "2023-11-06T18:14:03.296519Z",
     "shell.execute_reply": "2023-11-06T18:14:03.295761Z",
     "shell.execute_reply.started": "2023-11-06T18:14:03.240799Z"
    }
   },
   "outputs": [
    {
     "data": {
      "text/html": [
       "<div>\n",
       "<style scoped>\n",
       "    .dataframe tbody tr th:only-of-type {\n",
       "        vertical-align: middle;\n",
       "    }\n",
       "\n",
       "    .dataframe tbody tr th {\n",
       "        vertical-align: top;\n",
       "    }\n",
       "\n",
       "    .dataframe thead th {\n",
       "        text-align: right;\n",
       "    }\n",
       "</style>\n",
       "<table border=\"1\" class=\"dataframe\">\n",
       "  <thead>\n",
       "    <tr style=\"text-align: right;\">\n",
       "      <th></th>\n",
       "      <th>actor_id</th>\n",
       "      <th>address_id</th>\n",
       "      <th>category_id</th>\n",
       "      <th>city_id</th>\n",
       "      <th>country_id</th>\n",
       "      <th>customer_id</th>\n",
       "      <th>film_id</th>\n",
       "      <th>inventory_id</th>\n",
       "      <th>language_id</th>\n",
       "      <th>payment_id</th>\n",
       "      <th>rental_id</th>\n",
       "      <th>staff_id</th>\n",
       "      <th>store_id</th>\n",
       "    </tr>\n",
       "  </thead>\n",
       "  <tbody>\n",
       "    <tr>\n",
       "      <th>0</th>\n",
       "      <td>1:PENELOPE</td>\n",
       "      <td>1:47 MySakila Drive</td>\n",
       "      <td>1:Action</td>\n",
       "      <td>1:A Corua (La Corua)</td>\n",
       "      <td>1:Afghanistan</td>\n",
       "      <td>1:MARY</td>\n",
       "      <td>1</td>\n",
       "      <td>1</td>\n",
       "      <td>1:English</td>\n",
       "      <td>1</td>\n",
       "      <td>1</td>\n",
       "      <td>1:Mike</td>\n",
       "      <td>1</td>\n",
       "    </tr>\n",
       "  </tbody>\n",
       "</table>\n",
       "</div>"
      ],
      "text/plain": [
       "     actor_id           address_id category_id               city_id  \\\n",
       "0  1:PENELOPE  1:47 MySakila Drive    1:Action  1:A Corua (La Corua)   \n",
       "\n",
       "      country_id customer_id film_id inventory_id             language_id  \\\n",
       "0  1:Afghanistan      1:MARY       1            1  1:English                \n",
       "\n",
       "  payment_id rental_id staff_id store_id  \n",
       "0          1         1   1:Mike        1  "
      ]
     },
     "execution_count": 4,
     "metadata": {},
     "output_type": "execute_result"
    }
   ],
   "source": [
    "id_translation.translate(first, fmt=\"{id}[:{name}]\")"
   ]
  },
  {
   "cell_type": "markdown",
   "id": "af35202d-8946-4132-b9e3-c011e7421ac4",
   "metadata": {},
   "source": [
    "Let's focus on tables that support our preferred **`{id}:{name}`** translation format."
   ]
  },
  {
   "cell_type": "code",
   "execution_count": 5,
   "id": "04c02d84-6d8a-4a95-8e23-df6016fad71f",
   "metadata": {
    "execution": {
     "iopub.execute_input": "2023-11-06T18:14:03.297246Z",
     "iopub.status.busy": "2023-11-06T18:14:03.297080Z",
     "iopub.status.idle": "2023-11-06T18:14:03.304243Z",
     "shell.execute_reply": "2023-11-06T18:14:03.303681Z",
     "shell.execute_reply.started": "2023-11-06T18:14:03.297232Z"
    }
   },
   "outputs": [
    {
     "data": {
      "text/html": [
       "<div>\n",
       "<style scoped>\n",
       "    .dataframe tbody tr th:only-of-type {\n",
       "        vertical-align: middle;\n",
       "    }\n",
       "\n",
       "    .dataframe tbody tr th {\n",
       "        vertical-align: top;\n",
       "    }\n",
       "\n",
       "    .dataframe thead th {\n",
       "        text-align: right;\n",
       "    }\n",
       "</style>\n",
       "<table border=\"1\" class=\"dataframe\">\n",
       "  <thead>\n",
       "    <tr style=\"text-align: right;\">\n",
       "      <th></th>\n",
       "      <th>actor_id</th>\n",
       "      <th>address_id</th>\n",
       "      <th>category_id</th>\n",
       "      <th>city_id</th>\n",
       "      <th>country_id</th>\n",
       "      <th>customer_id</th>\n",
       "    </tr>\n",
       "  </thead>\n",
       "  <tbody>\n",
       "    <tr>\n",
       "      <th>0</th>\n",
       "      <td>1</td>\n",
       "      <td>1</td>\n",
       "      <td>1</td>\n",
       "      <td>1</td>\n",
       "      <td>1</td>\n",
       "      <td>1</td>\n",
       "    </tr>\n",
       "  </tbody>\n",
       "</table>\n",
       "</div>"
      ],
      "text/plain": [
       "   actor_id  address_id  category_id  city_id  country_id  customer_id\n",
       "0         1           1            1        1           1            1"
      ]
     },
     "execution_count": 5,
     "metadata": {},
     "output_type": "execute_result"
    }
   ],
   "source": [
    "columns = [\n",
    "    \"actor_id\",\n",
    "    \"address_id\",\n",
    "    \"category_id\",\n",
    "    \"city_id\",\n",
    "    \"country_id\",\n",
    "    \"customer_id\",\n",
    "]\n",
    "first = first[columns]\n",
    "first"
   ]
  },
  {
   "cell_type": "code",
   "execution_count": 6,
   "id": "a035aa11-fe0e-4d43-8988-bb969ac336de",
   "metadata": {
    "execution": {
     "iopub.execute_input": "2023-11-06T18:14:03.304830Z",
     "iopub.status.busy": "2023-11-06T18:14:03.304689Z",
     "iopub.status.idle": "2023-11-06T18:14:03.324157Z",
     "shell.execute_reply": "2023-11-06T18:14:03.323529Z",
     "shell.execute_reply.started": "2023-11-06T18:14:03.304818Z"
    }
   },
   "outputs": [
    {
     "data": {
      "text/html": [
       "<div>\n",
       "<style scoped>\n",
       "    .dataframe tbody tr th:only-of-type {\n",
       "        vertical-align: middle;\n",
       "    }\n",
       "\n",
       "    .dataframe tbody tr th {\n",
       "        vertical-align: top;\n",
       "    }\n",
       "\n",
       "    .dataframe thead th {\n",
       "        text-align: right;\n",
       "    }\n",
       "</style>\n",
       "<table border=\"1\" class=\"dataframe\">\n",
       "  <thead>\n",
       "    <tr style=\"text-align: right;\">\n",
       "      <th></th>\n",
       "      <th>actor_id</th>\n",
       "      <th>address_id</th>\n",
       "      <th>category_id</th>\n",
       "      <th>city_id</th>\n",
       "      <th>country_id</th>\n",
       "      <th>customer_id</th>\n",
       "    </tr>\n",
       "  </thead>\n",
       "  <tbody>\n",
       "    <tr>\n",
       "      <th>0</th>\n",
       "      <td>1:PENELOPE</td>\n",
       "      <td>1:47 MySakila Drive</td>\n",
       "      <td>1:Action</td>\n",
       "      <td>1:A Corua (La Corua)</td>\n",
       "      <td>1:Afghanistan</td>\n",
       "      <td>1:MARY</td>\n",
       "    </tr>\n",
       "  </tbody>\n",
       "</table>\n",
       "</div>"
      ],
      "text/plain": [
       "     actor_id           address_id category_id               city_id  \\\n",
       "0  1:PENELOPE  1:47 MySakila Drive    1:Action  1:A Corua (La Corua)   \n",
       "\n",
       "      country_id customer_id  \n",
       "0  1:Afghanistan      1:MARY  "
      ]
     },
     "execution_count": 6,
     "metadata": {},
     "output_type": "execute_result"
    }
   ],
   "source": [
    "id_translation.translate(first)"
   ]
  },
  {
   "cell_type": "markdown",
   "id": "28124644-a905-4411-b8b4-7da94fb62fb8",
   "metadata": {},
   "source": [
    "## Mapping\n",
    "Mapping is done automatically when calling `translate()`, but can also be done manually when needed. This is especially useful when debugging mapping issues. "
   ]
  },
  {
   "cell_type": "code",
   "execution_count": 7,
   "id": "8d23f4f7-e99e-4b30-baab-307c07abf85c",
   "metadata": {
    "execution": {
     "iopub.execute_input": "2023-11-06T18:14:03.325569Z",
     "iopub.status.busy": "2023-11-06T18:14:03.325405Z",
     "iopub.status.idle": "2023-11-06T18:14:03.334580Z",
     "shell.execute_reply": "2023-11-06T18:14:03.333634Z",
     "shell.execute_reply.started": "2023-11-06T18:14:03.325557Z"
    }
   },
   "outputs": [
    {
     "data": {
      "text/plain": [
       "{'actor_id': 'actor',\n",
       " 'address_id': 'address',\n",
       " 'category_id': 'category',\n",
       " 'city_id': 'city',\n",
       " 'country_id': 'country',\n",
       " 'customer_id': 'customer'}"
      ]
     },
     "execution_count": 7,
     "metadata": {},
     "output_type": "execute_result"
    }
   ],
   "source": [
    "id_translation.map(first)"
   ]
  },
  {
   "cell_type": "markdown",
   "id": "2443f805-90e2-4f3c-856a-7ba24f365b66",
   "metadata": {},
   "source": [
    "The `translate()`-method will accept a name-to-source mapping as the `names` argument.\n",
    "\n",
    "```python\n",
    "my_source = \"actor\"\n",
    "names = {\"actor_id\": my_source, \"customer_id\": my_source}\n",
    "```\n",
    "Passing this mapping will map only the `actor_id` and `customer_id` columns, using the same `source='actor'` for both."
   ]
  },
  {
   "cell_type": "code",
   "execution_count": 8,
   "id": "f6d36179-1cfb-4731-baf0-e1bff9bb319d",
   "metadata": {
    "execution": {
     "iopub.execute_input": "2023-11-06T18:14:03.335791Z",
     "iopub.status.busy": "2023-11-06T18:14:03.335581Z",
     "iopub.status.idle": "2023-11-06T18:14:03.346820Z",
     "shell.execute_reply": "2023-11-06T18:14:03.346099Z",
     "shell.execute_reply.started": "2023-11-06T18:14:03.335775Z"
    }
   },
   "outputs": [
    {
     "data": {
      "text/html": [
       "<div>\n",
       "<style scoped>\n",
       "    .dataframe tbody tr th:only-of-type {\n",
       "        vertical-align: middle;\n",
       "    }\n",
       "\n",
       "    .dataframe tbody tr th {\n",
       "        vertical-align: top;\n",
       "    }\n",
       "\n",
       "    .dataframe thead th {\n",
       "        text-align: right;\n",
       "    }\n",
       "</style>\n",
       "<table border=\"1\" class=\"dataframe\">\n",
       "  <thead>\n",
       "    <tr style=\"text-align: right;\">\n",
       "      <th></th>\n",
       "      <th>actor_id</th>\n",
       "      <th>address_id</th>\n",
       "      <th>category_id</th>\n",
       "      <th>city_id</th>\n",
       "      <th>country_id</th>\n",
       "      <th>customer_id</th>\n",
       "    </tr>\n",
       "  </thead>\n",
       "  <tbody>\n",
       "    <tr>\n",
       "      <th>0</th>\n",
       "      <td>1:PENELOPE</td>\n",
       "      <td>1</td>\n",
       "      <td>1</td>\n",
       "      <td>1</td>\n",
       "      <td>1</td>\n",
       "      <td>1:PENELOPE</td>\n",
       "    </tr>\n",
       "  </tbody>\n",
       "</table>\n",
       "</div>"
      ],
      "text/plain": [
       "     actor_id  address_id  category_id  city_id  country_id customer_id\n",
       "0  1:PENELOPE           1            1        1           1  1:PENELOPE"
      ]
     },
     "execution_count": 8,
     "metadata": {},
     "output_type": "execute_result"
    }
   ],
   "source": [
    "id_translation.translate(\n",
    "    first,\n",
    "    names={\"actor_id\": \"actor\", \"customer_id\": \"actor\"},\n",
    ")"
   ]
  },
  {
   "cell_type": "markdown",
   "id": "1d3117ab-c096-4838-ac7e-8281ffadbc52",
   "metadata": {},
   "source": [
    "Finally, you the actual scores used to make the mappings may be obtained by using the `map_scores()`-method. Higher is better. \n",
    "\n",
    "For filters and overrides, positive and negative infinity are used."
   ]
  },
  {
   "cell_type": "code",
   "execution_count": 9,
   "id": "04d4078f-8bcf-4b87-b630-32cb0f84d121",
   "metadata": {
    "execution": {
     "iopub.execute_input": "2023-11-06T18:14:03.347789Z",
     "iopub.status.busy": "2023-11-06T18:14:03.347516Z",
     "iopub.status.idle": "2023-11-06T18:14:03.359867Z",
     "shell.execute_reply": "2023-11-06T18:14:03.359299Z",
     "shell.execute_reply.started": "2023-11-06T18:14:03.347773Z"
    }
   },
   "outputs": [
    {
     "data": {
      "text/html": [
       "<div>\n",
       "<style scoped>\n",
       "    .dataframe tbody tr th:only-of-type {\n",
       "        vertical-align: middle;\n",
       "    }\n",
       "\n",
       "    .dataframe tbody tr th {\n",
       "        vertical-align: top;\n",
       "    }\n",
       "\n",
       "    .dataframe thead th {\n",
       "        text-align: right;\n",
       "    }\n",
       "</style>\n",
       "<table border=\"1\" class=\"dataframe\">\n",
       "  <thead>\n",
       "    <tr style=\"text-align: right;\">\n",
       "      <th>candidates</th>\n",
       "      <th>language</th>\n",
       "      <th>city</th>\n",
       "      <th>country</th>\n",
       "      <th>address</th>\n",
       "      <th>film</th>\n",
       "      <th>staff</th>\n",
       "      <th>customer</th>\n",
       "      <th>rental</th>\n",
       "      <th>category</th>\n",
       "      <th>actor</th>\n",
       "      <th>store</th>\n",
       "      <th>inventory</th>\n",
       "      <th>payment</th>\n",
       "    </tr>\n",
       "    <tr>\n",
       "      <th>values</th>\n",
       "      <th></th>\n",
       "      <th></th>\n",
       "      <th></th>\n",
       "      <th></th>\n",
       "      <th></th>\n",
       "      <th></th>\n",
       "      <th></th>\n",
       "      <th></th>\n",
       "      <th></th>\n",
       "      <th></th>\n",
       "      <th></th>\n",
       "      <th></th>\n",
       "      <th></th>\n",
       "    </tr>\n",
       "  </thead>\n",
       "  <tbody>\n",
       "    <tr>\n",
       "      <th>actor_id</th>\n",
       "      <td>0.099111</td>\n",
       "      <td>0.191000</td>\n",
       "      <td>0.117000</td>\n",
       "      <td>0.071333</td>\n",
       "      <td>0.099000</td>\n",
       "      <td>0.162667</td>\n",
       "      <td>0.209222</td>\n",
       "      <td>0.155667</td>\n",
       "      <td>0.119000</td>\n",
       "      <td>1.000000</td>\n",
       "      <td>0.161667</td>\n",
       "      <td>0.048556</td>\n",
       "      <td>0.047500</td>\n",
       "    </tr>\n",
       "    <tr>\n",
       "      <th>address_id</th>\n",
       "      <td>0.099111</td>\n",
       "      <td>0.057667</td>\n",
       "      <td>0.068429</td>\n",
       "      <td>0.988000</td>\n",
       "      <td>0.065667</td>\n",
       "      <td>0.079333</td>\n",
       "      <td>0.098111</td>\n",
       "      <td>0.131857</td>\n",
       "      <td>0.044556</td>\n",
       "      <td>0.083333</td>\n",
       "      <td>0.078333</td>\n",
       "      <td>0.093000</td>\n",
       "      <td>0.132857</td>\n",
       "    </tr>\n",
       "    <tr>\n",
       "      <th>category_id</th>\n",
       "      <td>0.215222</td>\n",
       "      <td>0.071000</td>\n",
       "      <td>0.184500</td>\n",
       "      <td>0.035619</td>\n",
       "      <td>0.039000</td>\n",
       "      <td>0.037667</td>\n",
       "      <td>0.214222</td>\n",
       "      <td>0.084238</td>\n",
       "      <td>0.994000</td>\n",
       "      <td>0.041667</td>\n",
       "      <td>0.120000</td>\n",
       "      <td>0.220222</td>\n",
       "      <td>0.052500</td>\n",
       "    </tr>\n",
       "    <tr>\n",
       "      <th>city_id</th>\n",
       "      <td>0.113000</td>\n",
       "      <td>0.991000</td>\n",
       "      <td>0.242000</td>\n",
       "      <td>0.054667</td>\n",
       "      <td>0.399000</td>\n",
       "      <td>0.096000</td>\n",
       "      <td>0.063429</td>\n",
       "      <td>0.055667</td>\n",
       "      <td>0.176500</td>\n",
       "      <td>0.200000</td>\n",
       "      <td>0.095000</td>\n",
       "      <td>0.076333</td>\n",
       "      <td>0.110000</td>\n",
       "    </tr>\n",
       "    <tr>\n",
       "      <th>country_id</th>\n",
       "      <td>0.062074</td>\n",
       "      <td>0.091000</td>\n",
       "      <td>0.997000</td>\n",
       "      <td>0.059429</td>\n",
       "      <td>0.049000</td>\n",
       "      <td>0.051556</td>\n",
       "      <td>0.054500</td>\n",
       "      <td>0.203286</td>\n",
       "      <td>0.181500</td>\n",
       "      <td>0.111111</td>\n",
       "      <td>0.106111</td>\n",
       "      <td>0.143000</td>\n",
       "      <td>0.115000</td>\n",
       "    </tr>\n",
       "    <tr>\n",
       "      <th>customer_id</th>\n",
       "      <td>0.104111</td>\n",
       "      <td>0.031000</td>\n",
       "      <td>0.059500</td>\n",
       "      <td>0.083238</td>\n",
       "      <td>0.039000</td>\n",
       "      <td>0.037667</td>\n",
       "      <td>0.992000</td>\n",
       "      <td>0.036619</td>\n",
       "      <td>0.216222</td>\n",
       "      <td>0.083333</td>\n",
       "      <td>0.036667</td>\n",
       "      <td>0.053556</td>\n",
       "      <td>0.052500</td>\n",
       "    </tr>\n",
       "  </tbody>\n",
       "</table>\n",
       "</div>"
      ],
      "text/plain": [
       "candidates   language      city   country   address      film     staff  \\\n",
       "values                                                                    \n",
       "actor_id     0.099111  0.191000  0.117000  0.071333  0.099000  0.162667   \n",
       "address_id   0.099111  0.057667  0.068429  0.988000  0.065667  0.079333   \n",
       "category_id  0.215222  0.071000  0.184500  0.035619  0.039000  0.037667   \n",
       "city_id      0.113000  0.991000  0.242000  0.054667  0.399000  0.096000   \n",
       "country_id   0.062074  0.091000  0.997000  0.059429  0.049000  0.051556   \n",
       "customer_id  0.104111  0.031000  0.059500  0.083238  0.039000  0.037667   \n",
       "\n",
       "candidates   customer    rental  category     actor     store  inventory  \\\n",
       "values                                                                     \n",
       "actor_id     0.209222  0.155667  0.119000  1.000000  0.161667   0.048556   \n",
       "address_id   0.098111  0.131857  0.044556  0.083333  0.078333   0.093000   \n",
       "category_id  0.214222  0.084238  0.994000  0.041667  0.120000   0.220222   \n",
       "city_id      0.063429  0.055667  0.176500  0.200000  0.095000   0.076333   \n",
       "country_id   0.054500  0.203286  0.181500  0.111111  0.106111   0.143000   \n",
       "customer_id  0.992000  0.036619  0.216222  0.083333  0.036667   0.053556   \n",
       "\n",
       "candidates    payment  \n",
       "values                 \n",
       "actor_id     0.047500  \n",
       "address_id   0.132857  \n",
       "category_id  0.052500  \n",
       "city_id      0.110000  \n",
       "country_id   0.115000  \n",
       "customer_id  0.052500  "
      ]
     },
     "execution_count": 9,
     "metadata": {},
     "output_type": "execute_result"
    }
   ],
   "source": [
    "id_translation.map_scores(first)"
   ]
  },
  {
   "cell_type": "code",
   "execution_count": null,
   "id": "4a855b6a-735d-4b07-8dd1-55266da964f2",
   "metadata": {},
   "outputs": [],
   "source": []
  }
 ],
 "metadata": {
  "kernelspec": {
   "display_name": "Python 3 (ipykernel)",
   "language": "python",
   "name": "python3"
  },
  "language_info": {
   "codemirror_mode": {
    "name": "ipython",
    "version": 3
   },
   "file_extension": ".py",
   "mimetype": "text/x-python",
   "name": "python",
   "nbconvert_exporter": "python",
   "pygments_lexer": "ipython3",
   "version": "3.10.12"
  }
 },
 "nbformat": 4,
 "nbformat_minor": 5
}
